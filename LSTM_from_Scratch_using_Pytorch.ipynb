{
 "cells": [
  {
   "cell_type": "markdown",
   "id": "51cb7d87-715b-4cc8-bccc-a3725e842ba9",
   "metadata": {},
   "source": [
    "## LSTM from scratch using Pytorch"
   ]
  },
  {
   "cell_type": "markdown",
   "id": "c7534e97-fe37-4c93-bd9b-d5722aeed8ed",
   "metadata": {},
   "source": [
    "### Importing Libraries"
   ]
  },
  {
   "cell_type": "code",
   "execution_count": 1,
   "id": "7870eb60-cfa8-422e-a6b3-0f351bb219cb",
   "metadata": {},
   "outputs": [],
   "source": [
    "import torch\n",
    "import torch.nn as nn\n",
    "import torch.nn.functional as F\n",
    "from torch.optim import Adam"
   ]
  },
  {
   "cell_type": "code",
   "execution_count": 3,
   "id": "4e150d21-c1c1-46a6-8802-bd4239424cc6",
   "metadata": {},
   "outputs": [],
   "source": [
    "import lightning as L\n",
    "from torch.utils.data import TensorDataset, DataLoader"
   ]
  },
  {
   "cell_type": "markdown",
   "id": "f7031ae3-7fac-410c-b776-db22abfa8b46",
   "metadata": {},
   "source": [
    "### Creating the functions "
   ]
  },
  {
   "cell_type": "code",
   "execution_count": 11,
   "id": "37375322-814c-4bf2-b83f-d1ce4f786ee8",
   "metadata": {},
   "outputs": [],
   "source": [
    "class LSTMbyHand(L.LightningModule):\n",
    "    def __init__(self): ## Create and initialize weights and bias\n",
    "\n",
    "        super().__init__() ## initialization method from the parent class\n",
    "\n",
    "        mean = torch.tensor(0.0)\n",
    "        std = torch.tensor(1.0)\n",
    "\n",
    "        self.wlr1 = nn.Parameter(torch.normal(mean=mean,std=std),requires_grad=True)\n",
    "        self.wlr2 = nn.Parameter(torch.normal(mean=mean,std=std),requires_grad=True)\n",
    "        self.blr1 = nn.Parameter(torch.tensor(0.),requires_grad=True)\n",
    "\n",
    "\n",
    "        self.wpr1 = nn.Parameter(torch.normal(mean=mean,std=std),requires_grad=True)\n",
    "        self.wpr2 = nn.Parameter(torch.normal(mean=mean,std=std),requires_grad=True)\n",
    "        self.bpr1 = nn.Parameter(torch.tensor(0.),requires_grad=True)\n",
    "\n",
    "        self.wp1 = nn.Parameter(torch.normal(mean=mean,std=std),requires_grad=True)\n",
    "        self.wp2 = nn.Parameter(torch.normal(mean=mean,std=std),requires_grad=True)\n",
    "        self.bp1 = nn.Parameter(torch.tensor(0.),requires_grad=True)\n",
    "\n",
    "\n",
    "        self.wo1 = nn.Parameter(torch.normal(mean=mean,std=std),requires_grad=True)\n",
    "        self.wo2 = nn.Parameter(torch.normal(mean=mean,std=std),requires_grad=True)\n",
    "        self.bo1 = nn.Parameter(torch.tensor(0.),requires_grad=True)\n",
    "\n",
    "        \n",
    "    def lstm_unit(self, input_value, long_memory,short_memory): ## Does LSTM Math\n",
    "        long_remember_percent = torch.sigmoid((short_memory*self.wlr1)+(input_value*self.wlr2)+self.blr1)\n",
    "        potential_remember_percent = torch.sigmoid((short_memory*self.wpr1)+(input_value*self.wpr2)+self.bpr1) \n",
    "                                                   \n",
    "        potential_memory = torch.tanh((short_memory*self.wp1)+(input_value*self.wp2)+self.bp1)\n",
    "        \n",
    "        updated_long_memory = ((long_memory*long_remember_percent)+(potential_remember_percent*potential_memory))\n",
    "\n",
    "        output_percent = torch.sigmoid((short_memory*self.wo1)+(input_value*self.wo2) + self.bo1)\n",
    "\n",
    "        updated_short_memory = torch.tanh(updated_long_memory)*output_percent\n",
    "\n",
    "        return ([updated_long_memory,updated_short_memory])\n",
    "                             \n",
    "    def forward(self,input):## Forward pass\n",
    "        long_memory = 0\n",
    "        short_memory = 0\n",
    "        day1 = input[0]\n",
    "        day2 = input[1]               \n",
    "        day3 = input[2]\n",
    "        day4 = input[3]\n",
    "\n",
    "        long_memory,short_memory = self.lstm_unit(day1,long_memory,short_memory)\n",
    "        long_memory,short_memory = self.lstm_unit(day2,long_memory,short_memory)     \n",
    "        long_memory,short_memory = self.lstm_unit(day3,long_memory,short_memory)\n",
    "        long_memory,short_memory = self.lstm_unit(day4,long_memory,short_memory)\n",
    "        return short_memory\n",
    "             \n",
    "    def configure_optimizers(self): ## To optimize weights\n",
    "        return Adam(self.parameters())\n",
    "             \n",
    "    def training_step(self,batch,batch_idx): ## calculate loss and log training progress\n",
    "        input_i,label_i = batch\n",
    "        output_i = self.forward(input_i[0])\n",
    "        loss = (output_i - label_i)**2\n",
    "\n",
    "        self.log(\"train_loss\",loss)\n",
    "\n",
    "        if (label_i==0):\n",
    "             self.log(\"out_0\",output_i)\n",
    "        else:\n",
    "             self.log(\"out_1\",output_i)\n",
    "        return loss\n",
    "             \n",
    "             "
   ]
  },
  {
   "cell_type": "markdown",
   "id": "362bab4d-3e3e-4132-a1a5-ea5dcf946fd2",
   "metadata": {},
   "source": [
    "### Model Prediction"
   ]
  },
  {
   "cell_type": "code",
   "execution_count": 12,
   "id": "a49ed272-8005-4f93-9148-50fe0b481a04",
   "metadata": {},
   "outputs": [
    {
     "name": "stdout",
     "output_type": "stream",
     "text": [
      "\n",
      " Now let's compare the observed and predicted values...\n",
      "Company A : Observed = 0, Predicted =  tensor(0.1022)\n"
     ]
    }
   ],
   "source": [
    "model = LSTMbyHand()\n",
    "print(\"\\n Now let's compare the observed and predicted values...\")\n",
    "print(\"Company A : Observed = 0, Predicted = \", model(torch.tensor([0.,0.5,0.25,1.])).detach())\n"
   ]
  },
  {
   "cell_type": "code",
   "execution_count": 13,
   "id": "39f14449-680d-4959-a0ff-7ecede6304e7",
   "metadata": {},
   "outputs": [
    {
     "name": "stdout",
     "output_type": "stream",
     "text": [
      "Company B : Observed = 1, Predicted =  tensor(0.1111)\n"
     ]
    }
   ],
   "source": [
    "print(\"Company B : Observed = 1, Predicted = \", model(torch.tensor([1.,0.5,0.25,1.])).detach())\n"
   ]
  },
  {
   "cell_type": "code",
   "execution_count": 14,
   "id": "2bea6a66-9079-41aa-bdad-c4790f4d15f8",
   "metadata": {},
   "outputs": [],
   "source": [
    "inputs = torch.tensor([[0.,0.5,0.25,1.],[1.,0.5,0.25,1.]])\n",
    "labels = torch.tensor([0.,1.])\n",
    "\n",
    "dataset = TensorDataset(inputs,labels)\n",
    "dataloader = DataLoader(dataset)"
   ]
  },
  {
   "cell_type": "code",
   "execution_count": 15,
   "id": "4ab09768-5474-4350-b8f5-624ff253567e",
   "metadata": {},
   "outputs": [
    {
     "name": "stderr",
     "output_type": "stream",
     "text": [
      "💡 Tip: For seamless cloud uploads and versioning, try installing [litmodels](https://pypi.org/project/litmodels/) to enable LitModelCheckpoint, which syncs automatically with the Lightning model registry.\n",
      "GPU available: False, used: False\n",
      "TPU available: False, using: 0 TPU cores\n",
      "HPU available: False, using: 0 HPUs\n"
     ]
    },
    {
     "name": "stdout",
     "output_type": "stream",
     "text": [
      "WARNING:tensorflow:From C:\\Users\\019176\\AppData\\Local\\Programs\\Python\\Python310\\lib\\site-packages\\keras\\src\\losses.py:2976: The name tf.losses.sparse_softmax_cross_entropy is deprecated. Please use tf.compat.v1.losses.sparse_softmax_cross_entropy instead.\n",
      "\n"
     ]
    },
    {
     "name": "stderr",
     "output_type": "stream",
     "text": [
      "\n",
      "  | Name         | Type | Params | Mode\n",
      "---------------------------------------------\n",
      "  | other params | n/a  | 12     | n/a \n",
      "---------------------------------------------\n",
      "12        Trainable params\n",
      "0         Non-trainable params\n",
      "12        Total params\n",
      "0.000     Total estimated model params size (MB)\n",
      "0         Modules in train mode\n",
      "0         Modules in eval mode\n",
      "C:\\Users\\019176\\AppData\\Local\\Programs\\Python\\Python310\\lib\\site-packages\\lightning\\pytorch\\trainer\\connectors\\data_connector.py:425: The 'train_dataloader' does not have many workers which may be a bottleneck. Consider increasing the value of the `num_workers` argument` to `num_workers=13` in the `DataLoader` to improve performance.\n",
      "C:\\Users\\019176\\AppData\\Local\\Programs\\Python\\Python310\\lib\\site-packages\\lightning\\pytorch\\loops\\fit_loop.py:310: The number of training batches (2) is smaller than the logging interval Trainer(log_every_n_steps=50). Set a lower value for log_every_n_steps if you want to see logs for the training epoch.\n"
     ]
    },
    {
     "data": {
      "application/vnd.jupyter.widget-view+json": {
       "model_id": "ef580017e13f444b9176531b872e0af0",
       "version_major": 2,
       "version_minor": 0
      },
      "text/plain": [
       "Training: |                              | 0/? [00:00<?, ?it/s]"
      ]
     },
     "metadata": {},
     "output_type": "display_data"
    },
    {
     "name": "stderr",
     "output_type": "stream",
     "text": [
      "`Trainer.fit` stopped: `max_epochs=2000` reached.\n"
     ]
    }
   ],
   "source": [
    "trainer = L.Trainer(max_epochs=2000)\n",
    "trainer.fit(model,train_dataloaders = dataloader)"
   ]
  },
  {
   "cell_type": "code",
   "execution_count": 16,
   "id": "7ff7c978-ea5e-46ce-beec-6757f9c6367e",
   "metadata": {},
   "outputs": [
    {
     "name": "stdout",
     "output_type": "stream",
     "text": [
      "\n",
      " Now let's compare the observed and predicted values...\n",
      "Company A : Observed = 0, Predicted =  tensor(0.0010)\n"
     ]
    }
   ],
   "source": [
    "print(\"\\n Now let's compare the observed and predicted values...\")\n",
    "print(\"Company A : Observed = 0, Predicted = \", model(torch.tensor([0.,0.5,0.25,1.])).detach())\n"
   ]
  },
  {
   "cell_type": "code",
   "execution_count": 17,
   "id": "df133f3a-7c18-4e0c-8912-6a12c9fed761",
   "metadata": {},
   "outputs": [
    {
     "name": "stdout",
     "output_type": "stream",
     "text": [
      "Company B : Observed = 1, Predicted =  tensor(0.9044)\n"
     ]
    }
   ],
   "source": [
    "print(\"Company B : Observed = 1, Predicted = \", model(torch.tensor([1.,0.5,0.25,1.])).detach())\n"
   ]
  },
  {
   "cell_type": "code",
   "execution_count": 18,
   "id": "f02082b4-754f-4132-bb4b-3e66ebd558a6",
   "metadata": {},
   "outputs": [],
   "source": [
    "## We are using the checkpoint\n",
    "path_to_best_checkpoint = trainer.checkpoint_callback.best_model_path"
   ]
  },
  {
   "cell_type": "markdown",
   "id": "a6d838ff-1192-4576-88fa-67af9c557d23",
   "metadata": {},
   "source": [
    "### Increasing Epochs and training from the last checkpoint"
   ]
  },
  {
   "cell_type": "code",
   "execution_count": 19,
   "id": "fe0d0c23-9106-453a-9536-daeaa94bcc90",
   "metadata": {},
   "outputs": [
    {
     "name": "stderr",
     "output_type": "stream",
     "text": [
      "💡 Tip: For seamless cloud uploads and versioning, try installing [litmodels](https://pypi.org/project/litmodels/) to enable LitModelCheckpoint, which syncs automatically with the Lightning model registry.\n",
      "GPU available: False, used: False\n",
      "TPU available: False, using: 0 TPU cores\n",
      "HPU available: False, using: 0 HPUs\n",
      "Restoring states from the checkpoint path at C:\\Users\\019176\\lightning_logs\\version_0\\checkpoints\\epoch=1999-step=4000.ckpt\n",
      "C:\\Users\\019176\\AppData\\Local\\Programs\\Python\\Python310\\lib\\site-packages\\lightning\\pytorch\\callbacks\\model_checkpoint.py:366: The dirpath has changed from 'C:\\\\Users\\\\019176\\\\lightning_logs\\\\version_0\\\\checkpoints' to 'C:\\\\Users\\\\019176\\\\lightning_logs\\\\version_1\\\\checkpoints', therefore `best_model_score`, `kth_best_model_path`, `kth_value`, `last_model_path` and `best_k_models` won't be reloaded. Only `best_model_path` will be reloaded.\n",
      "\n",
      "  | Name         | Type | Params | Mode\n",
      "---------------------------------------------\n",
      "  | other params | n/a  | 12     | n/a \n",
      "---------------------------------------------\n",
      "12        Trainable params\n",
      "0         Non-trainable params\n",
      "12        Total params\n",
      "0.000     Total estimated model params size (MB)\n",
      "0         Modules in train mode\n",
      "0         Modules in eval mode\n",
      "Restored all states from the checkpoint at C:\\Users\\019176\\lightning_logs\\version_0\\checkpoints\\epoch=1999-step=4000.ckpt\n"
     ]
    },
    {
     "data": {
      "application/vnd.jupyter.widget-view+json": {
       "model_id": "9f9875c16eae40f9a1baf670f84efb89",
       "version_major": 2,
       "version_minor": 0
      },
      "text/plain": [
       "Training: |                              | 0/? [00:00<?, ?it/s]"
      ]
     },
     "metadata": {},
     "output_type": "display_data"
    },
    {
     "name": "stderr",
     "output_type": "stream",
     "text": [
      "`Trainer.fit` stopped: `max_epochs=3000` reached.\n"
     ]
    }
   ],
   "source": [
    "trainer = L.Trainer(max_epochs=3000)\n",
    "trainer.fit(model,train_dataloaders = dataloader,ckpt_path=path_to_best_checkpoint)"
   ]
  },
  {
   "cell_type": "code",
   "execution_count": 20,
   "id": "fcec01e9-e478-4662-84e7-9552bf27cf64",
   "metadata": {},
   "outputs": [
    {
     "name": "stdout",
     "output_type": "stream",
     "text": [
      "\n",
      " Now let's compare the observed and predicted values...\n",
      "Company A : Observed = 0, Predicted =  tensor(0.0002)\n"
     ]
    }
   ],
   "source": [
    "print(\"\\n Now let's compare the observed and predicted values...\")\n",
    "print(\"Company A : Observed = 0, Predicted = \", model(torch.tensor([0.,0.5,0.25,1.])).detach())\n"
   ]
  },
  {
   "cell_type": "code",
   "execution_count": 21,
   "id": "4c12caa2-6ed7-4861-a156-8f7c43d0567f",
   "metadata": {},
   "outputs": [
    {
     "name": "stdout",
     "output_type": "stream",
     "text": [
      "Company B : Observed = 1, Predicted =  tensor(0.9522)\n"
     ]
    }
   ],
   "source": [
    "print(\"Company B : Observed = 1, Predicted = \", model(torch.tensor([1.,0.5,0.25,1.])).detach())\n"
   ]
  },
  {
   "cell_type": "markdown",
   "id": "29780657-1d6c-46ae-a64c-8a5e68bf88bf",
   "metadata": {},
   "source": [
    "## Here Using the Lightning Module and creating an LSTM "
   ]
  },
  {
   "cell_type": "code",
   "execution_count": 22,
   "id": "e3b4e154-7081-4199-a3b9-3f403839bcd7",
   "metadata": {},
   "outputs": [],
   "source": [
    "class LightningLSTM(L.LightningModule):\n",
    "    def __init__(self):\n",
    "        super().__init__()\n",
    "        self.lstm = nn.LSTM(input_size=1,hidden_size=1)\n",
    "\n",
    "    def forward(self,input):\n",
    "        input_trans = input.view(len(input),1)\n",
    "\n",
    "        lstm_out ,temp = self.lstm(input_trans)\n",
    "        prediction = lstm_out[-1]\n",
    "\n",
    "        return prediction\n",
    "\n",
    "    def configure_optimizers(self):\n",
    "        return Adam(self.parameters(),lr=0.1)\n",
    "\n",
    "\n",
    "    def training_step(self,batch,batch_idx): ## calculate loss and log training progress\n",
    "        input_i,label_i = batch\n",
    "        output_i = self.forward(input_i[0])\n",
    "        loss = (output_i - label_i)**2\n",
    "\n",
    "        self.log(\"train_loss\",loss)\n",
    "\n",
    "        if (label_i==0):\n",
    "             self.log(\"out_0\",output_i)\n",
    "        else:\n",
    "             self.log(\"out_1\",output_i)\n",
    "        return loss"
   ]
  },
  {
   "cell_type": "code",
   "execution_count": 23,
   "id": "1d65473a-636c-42aa-8f65-e51d9c1514cb",
   "metadata": {},
   "outputs": [
    {
     "name": "stdout",
     "output_type": "stream",
     "text": [
      "\n",
      " Now let's compare the observed and predicted values...\n",
      "Company A : Observed = 0, Predicted =  tensor([-0.3287])\n"
     ]
    }
   ],
   "source": [
    "model2 = LightningLSTM()\n",
    "print(\"\\n Now let's compare the observed and predicted values...\")\n",
    "print(\"Company A : Observed = 0, Predicted = \", model2(torch.tensor([0.,0.5,0.25,1.])).detach())\n"
   ]
  },
  {
   "cell_type": "code",
   "execution_count": 24,
   "id": "ae8ea915-d7ca-45dc-bafd-ded11ce6ce55",
   "metadata": {},
   "outputs": [
    {
     "name": "stdout",
     "output_type": "stream",
     "text": [
      "Company B : Observed = 1, Predicted =  tensor([-0.3371])\n"
     ]
    }
   ],
   "source": [
    "print(\"Company B : Observed = 1, Predicted = \", model2(torch.tensor([1.,0.5,0.25,1.])).detach())\n"
   ]
  },
  {
   "cell_type": "code",
   "execution_count": 25,
   "id": "5697ffa2-9f32-4b96-abe3-456e8101d750",
   "metadata": {},
   "outputs": [
    {
     "name": "stderr",
     "output_type": "stream",
     "text": [
      "💡 Tip: For seamless cloud uploads and versioning, try installing [litmodels](https://pypi.org/project/litmodels/) to enable LitModelCheckpoint, which syncs automatically with the Lightning model registry.\n",
      "GPU available: False, used: False\n",
      "TPU available: False, using: 0 TPU cores\n",
      "HPU available: False, using: 0 HPUs\n",
      "\n",
      "  | Name | Type | Params | Mode \n",
      "--------------------------------------\n",
      "0 | lstm | LSTM | 16     | train\n",
      "--------------------------------------\n",
      "16        Trainable params\n",
      "0         Non-trainable params\n",
      "16        Total params\n",
      "0.000     Total estimated model params size (MB)\n",
      "1         Modules in train mode\n",
      "0         Modules in eval mode\n"
     ]
    },
    {
     "data": {
      "application/vnd.jupyter.widget-view+json": {
       "model_id": "312f5129850a4eb497e095445617bdae",
       "version_major": 2,
       "version_minor": 0
      },
      "text/plain": [
       "Training: |                              | 0/? [00:00<?, ?it/s]"
      ]
     },
     "metadata": {},
     "output_type": "display_data"
    },
    {
     "name": "stderr",
     "output_type": "stream",
     "text": [
      "`Trainer.fit` stopped: `max_epochs=300` reached.\n"
     ]
    },
    {
     "name": "stdout",
     "output_type": "stream",
     "text": [
      "Company A : Observed = 0, Predicted =  tensor([4.3605e-05])\n"
     ]
    }
   ],
   "source": [
    "trainer2 = L.Trainer(max_epochs = 300,log_every_n_steps=2)\n",
    "\n",
    "trainer2.fit(model2,train_dataloaders = dataloader)\n",
    "print(\"Company A : Observed = 0, Predicted = \", model2(torch.tensor([0.,0.5,0.25,1.])).detach())\n"
   ]
  },
  {
   "cell_type": "code",
   "execution_count": 26,
   "id": "a3be48e4-da75-48af-8937-0856bdbb6155",
   "metadata": {},
   "outputs": [
    {
     "name": "stdout",
     "output_type": "stream",
     "text": [
      "Company B : Observed = 1, Predicted =  tensor([0.9878])\n"
     ]
    }
   ],
   "source": [
    "print(\"Company B : Observed = 1, Predicted = \", model2(torch.tensor([1.,0.5,0.25,1.])).detach())\n"
   ]
  },
  {
   "cell_type": "code",
   "execution_count": 27,
   "id": "ea35021e-bf89-4cf7-9548-c1b4d3e86834",
   "metadata": {},
   "outputs": [
    {
     "name": "stdout",
     "output_type": "stream",
     "text": [
      "Company A : Observed = 0, Predicted =  tensor([4.3605e-05])\n"
     ]
    }
   ],
   "source": [
    "print(\"Company A : Observed = 0, Predicted = \", model2(torch.tensor([0.,0.5,0.25,1.])).detach())"
   ]
  },
  {
   "cell_type": "code",
   "execution_count": null,
   "id": "a8ef5e5a-87f2-4615-a73a-3bb054b36ef8",
   "metadata": {},
   "outputs": [],
   "source": []
  }
 ],
 "metadata": {
  "kernelspec": {
   "display_name": "Python 3 (ipykernel)",
   "language": "python",
   "name": "python3"
  },
  "language_info": {
   "codemirror_mode": {
    "name": "ipython",
    "version": 3
   },
   "file_extension": ".py",
   "mimetype": "text/x-python",
   "name": "python",
   "nbconvert_exporter": "python",
   "pygments_lexer": "ipython3",
   "version": "3.10.0"
  }
 },
 "nbformat": 4,
 "nbformat_minor": 5
}
